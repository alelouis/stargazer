{
 "cells": [
  {
   "cell_type": "code",
   "execution_count": 3,
   "id": "f6c0da0f-8b5f-4bf9-b876-8d9f3e3002e1",
   "metadata": {},
   "outputs": [],
   "source": [
    "import pandas as pd"
   ]
  },
  {
   "cell_type": "code",
   "execution_count": 4,
   "id": "d2736368-2261-4413-9c9e-96895959f454",
   "metadata": {},
   "outputs": [],
   "source": [
    "# Download data\n",
    "#!curl https://raw.githubusercontent.com/astronexus/HYG-Database/master/hygdata_v3.csv -o hyg_data.csv"
   ]
  },
  {
   "cell_type": "code",
   "execution_count": 5,
   "id": "a57a3dbc-c6d2-4f6b-aef4-9b357fa800a8",
   "metadata": {},
   "outputs": [],
   "source": [
    "pi = 3.14159265359"
   ]
  },
  {
   "cell_type": "code",
   "execution_count": 6,
   "id": "e6b5fae7-6da2-47d2-af19-89d401841979",
   "metadata": {},
   "outputs": [],
   "source": [
    "data = pd.read_csv(\"hyg_data.csv\")\n",
    "data = data.filter(items=['proper', 'ra', 'dec', 'mag', 'con'])\n",
    "data = data.sort_values('mag', ascending=True)\n",
    "data = data[data.proper != 'Sol']\n",
    "data['ra'] = (data['ra'] / 24) * 2 * pi\n",
    "data['dec'] = data['dec'] / 90 * pi/2\n",
    "data['phi'] = data['ra']\n",
    "data['theta'] = pi/2 - data['dec']\n",
    "data['mag'] = data['mag'] - data['mag'].min()"
   ]
  },
  {
   "cell_type": "code",
   "execution_count": 7,
   "id": "25c34602-f576-427e-b15c-14a6d2da47a9",
   "metadata": {},
   "outputs": [],
   "source": [
    "data_export = data.filter(items=['proper', 'theta', 'phi', 'mag']).head(1000)\n",
    "data_export.to_csv('../assets/stars.csv', index = False, header=False)"
   ]
  },
  {
   "cell_type": "code",
   "execution_count": 86,
   "id": "f9e4cf1b-34ff-4125-9db7-993046feb3ae",
   "metadata": {},
   "outputs": [],
   "source": [
    "data = pd.read_csv(\"hyg_data.csv\")"
   ]
  },
  {
   "cell_type": "code",
   "execution_count": null,
   "id": "d4eff37b-84f6-438c-baed-a2fb73b3bda2",
   "metadata": {},
   "outputs": [],
   "source": [
    "grouped_df = data.groupby('con')\n",
    "for key, item in grouped_df:\n",
    "    print(grouped_df.get_group(key), \"\\n\\n\")"
   ]
  },
  {
   "cell_type": "code",
   "execution_count": null,
   "id": "9ba032e9-31d8-4a68-8ae9-7839f33f8dc7",
   "metadata": {},
   "outputs": [],
   "source": []
  }
 ],
 "metadata": {
  "kernelspec": {
   "display_name": "Python 3 (ipykernel)",
   "language": "python",
   "name": "python3"
  },
  "language_info": {
   "codemirror_mode": {
    "name": "ipython",
    "version": 3
   },
   "file_extension": ".py",
   "mimetype": "text/x-python",
   "name": "python",
   "nbconvert_exporter": "python",
   "pygments_lexer": "ipython3",
   "version": "3.9.7"
  }
 },
 "nbformat": 4,
 "nbformat_minor": 5
}
